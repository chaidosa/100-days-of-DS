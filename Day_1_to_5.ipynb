{
  "nbformat": 4,
  "nbformat_minor": 0,
  "metadata": {
    "colab": {
      "provenance": [],
      "authorship_tag": "ABX9TyOW900QvsqW4I0Z7kP07XKq",
      "include_colab_link": true
    },
    "kernelspec": {
      "name": "python3",
      "display_name": "Python 3"
    },
    "language_info": {
      "name": "python"
    }
  },
  "cells": [
    {
      "cell_type": "markdown",
      "metadata": {
        "id": "view-in-github",
        "colab_type": "text"
      },
      "source": [
        "<a href=\"https://colab.research.google.com/github/chaidosa/100-days-of-DS/blob/main/Day_1_to_5.ipynb\" target=\"_parent\"><img src=\"https://colab.research.google.com/assets/colab-badge.svg\" alt=\"Open In Colab\"/></a>"
      ]
    },
    {
      "cell_type": "markdown",
      "source": [
        "# Day 1: \n",
        "  ## Install and Set Up Python and Necessary Libraries for Data Science\n",
        "In this Colab notebook, we will walk through the process of installing and setting up Python and the necessary libraries for data science. These libraries include NumPy, Pandas, and Matplotlib, which are essential tools for data manipulation, analysis, and visualization in Python.\n",
        "\n",
        "### Step 1: Install Python\n",
        "If you do not have Python installed on your machine, you can install it by following these steps:\n",
        "\n",
        "Go to the Python official website at https://www.python.org/ and navigate to the \"Downloads\" section.\n",
        "Choose the appropriate version of Python for your operating system (Windows, macOS, or Linux) and click on the download link.\n",
        "Run the installer and follow the instructions to install Python on your machine.\n"
      ],
      "metadata": {
        "id": "b0iv2S-aYeFW"
      }
    },
    {
      "cell_type": "markdown",
      "source": [
        "### Step 2: Install NumPy\n",
        "NumPy is a powerful library for numerical computing in Python. To install NumPy, you can use the following command in your Colab notebook:"
      ],
      "metadata": {
        "id": "ersRndWRZWA0"
      }
    },
    {
      "cell_type": "code",
      "execution_count": 1,
      "metadata": {
        "colab": {
          "base_uri": "https://localhost:8080/"
        },
        "id": "mhEncwHJYRoc",
        "outputId": "f83c13f7-c0db-4924-ebba-66a5f3ef89f2"
      },
      "outputs": [
        {
          "output_type": "stream",
          "name": "stdout",
          "text": [
            "Looking in indexes: https://pypi.org/simple, https://us-python.pkg.dev/colab-wheels/public/simple/\n",
            "Requirement already satisfied: numpy in /usr/local/lib/python3.9/dist-packages (1.22.4)\n"
          ]
        }
      ],
      "source": [
        "!pip install numpy"
      ]
    },
    {
      "cell_type": "markdown",
      "source": [
        "This command will download and install the latest version of NumPy from the Python Package Index (PyPI)."
      ],
      "metadata": {
        "id": "h6lwe0LVZg-5"
      }
    },
    {
      "cell_type": "markdown",
      "source": [
        "### Step 3: Install Pandas\n",
        "Pandas is a popular library for data manipulation and analysis in Python. To install Pandas, you can use the following command"
      ],
      "metadata": {
        "id": "3EQLLNenZ1oQ"
      }
    },
    {
      "cell_type": "code",
      "source": [
        "!pip install pandas"
      ],
      "metadata": {
        "colab": {
          "base_uri": "https://localhost:8080/"
        },
        "id": "6MKrfC8CZcBN",
        "outputId": "2f4c5286-856a-426c-a5f3-4152daf6ab8a"
      },
      "execution_count": 2,
      "outputs": [
        {
          "output_type": "stream",
          "name": "stdout",
          "text": [
            "Looking in indexes: https://pypi.org/simple, https://us-python.pkg.dev/colab-wheels/public/simple/\n",
            "Requirement already satisfied: pandas in /usr/local/lib/python3.9/dist-packages (1.5.3)\n",
            "Requirement already satisfied: numpy>=1.20.3 in /usr/local/lib/python3.9/dist-packages (from pandas) (1.22.4)\n",
            "Requirement already satisfied: pytz>=2020.1 in /usr/local/lib/python3.9/dist-packages (from pandas) (2022.7.1)\n",
            "Requirement already satisfied: python-dateutil>=2.8.1 in /usr/local/lib/python3.9/dist-packages (from pandas) (2.8.2)\n",
            "Requirement already satisfied: six>=1.5 in /usr/local/lib/python3.9/dist-packages (from python-dateutil>=2.8.1->pandas) (1.16.0)\n"
          ]
        }
      ]
    },
    {
      "cell_type": "markdown",
      "source": [
        "This command will download and install the latest version of Pandas from PyPI"
      ],
      "metadata": {
        "id": "ZIS8JOBQZ8vr"
      }
    },
    {
      "cell_type": "markdown",
      "source": [
        "### Step 4: Install Matplotlib\n",
        "Matplotlib is widely used library for data visualization in Python. To install Matplotlib you can use the following command:"
      ],
      "metadata": {
        "id": "QT3kVfaHaE2r"
      }
    },
    {
      "cell_type": "code",
      "source": [
        "!pip install matplotlib"
      ],
      "metadata": {
        "colab": {
          "base_uri": "https://localhost:8080/"
        },
        "id": "foQ3C3dMZ67N",
        "outputId": "12894f4a-2ba8-4f81-a5cd-2a2ea2762fe1"
      },
      "execution_count": 3,
      "outputs": [
        {
          "output_type": "stream",
          "name": "stdout",
          "text": [
            "Looking in indexes: https://pypi.org/simple, https://us-python.pkg.dev/colab-wheels/public/simple/\n",
            "Requirement already satisfied: matplotlib in /usr/local/lib/python3.9/dist-packages (3.7.1)\n",
            "Requirement already satisfied: numpy>=1.20 in /usr/local/lib/python3.9/dist-packages (from matplotlib) (1.22.4)\n",
            "Requirement already satisfied: contourpy>=1.0.1 in /usr/local/lib/python3.9/dist-packages (from matplotlib) (1.0.7)\n",
            "Requirement already satisfied: cycler>=0.10 in /usr/local/lib/python3.9/dist-packages (from matplotlib) (0.11.0)\n",
            "Requirement already satisfied: fonttools>=4.22.0 in /usr/local/lib/python3.9/dist-packages (from matplotlib) (4.39.3)\n",
            "Requirement already satisfied: pyparsing>=2.3.1 in /usr/local/lib/python3.9/dist-packages (from matplotlib) (3.0.9)\n",
            "Requirement already satisfied: packaging>=20.0 in /usr/local/lib/python3.9/dist-packages (from matplotlib) (23.0)\n",
            "Requirement already satisfied: importlib-resources>=3.2.0 in /usr/local/lib/python3.9/dist-packages (from matplotlib) (5.12.0)\n",
            "Requirement already satisfied: pillow>=6.2.0 in /usr/local/lib/python3.9/dist-packages (from matplotlib) (8.4.0)\n",
            "Requirement already satisfied: python-dateutil>=2.7 in /usr/local/lib/python3.9/dist-packages (from matplotlib) (2.8.2)\n",
            "Requirement already satisfied: kiwisolver>=1.0.1 in /usr/local/lib/python3.9/dist-packages (from matplotlib) (1.4.4)\n",
            "Requirement already satisfied: zipp>=3.1.0 in /usr/local/lib/python3.9/dist-packages (from importlib-resources>=3.2.0->matplotlib) (3.15.0)\n",
            "Requirement already satisfied: six>=1.5 in /usr/local/lib/python3.9/dist-packages (from python-dateutil>=2.7->matplotlib) (1.16.0)\n"
          ]
        }
      ]
    },
    {
      "cell_type": "markdown",
      "source": [
        "This command will download and install latest version of Matplotlib from PyPI"
      ],
      "metadata": {
        "id": "60s7INKRaWhX"
      }
    },
    {
      "cell_type": "markdown",
      "source": [
        "### Step 5: Importing Libraries\n",
        "Once you have installed NumPy, Pandas and Matplotliv, you can import them into your Python code using the \"import\" statement. For example"
      ],
      "metadata": {
        "id": "z9qaNFt-aiq6"
      }
    },
    {
      "cell_type": "code",
      "source": [
        "import numpy as np\n",
        "import pandas as pd\n",
        "import matplotlib.pyplot as plt\n"
      ],
      "metadata": {
        "id": "VaIHozjraVhe"
      },
      "execution_count": null,
      "outputs": []
    },
    {
      "cell_type": "markdown",
      "source": [
        "This will allow you to usee functions and classes provided by these libraries in your data science projects.\n",
        "\n",
        "With Python and the necessary libraries installed and imported, you're now ready to start exploring and analyzing data using the power of data science tools in Python!"
      ],
      "metadata": {
        "id": "TpTfKzw6bClD"
      }
    },
    {
      "cell_type": "markdown",
      "source": [
        "### Conclusion\n",
        "In this Day, we have learned how to install and set up Python and the necessary libraries for data Science, including Numpy, Pandas and Matplotlib. These libraries  are fundamental tools for data manupuation, analysis, and visualization in Python, and are widely used in the data science community. By following the steps outlines in this colad notebook, you can ensure that you have the necessary software and libraries installled to perform data science task effectively using Python. In the subsequent section/days of this notebook will dive deeper into these libraries and learn how to utilize then for various data science task.\n",
        "\n",
        "#### We are just getting started and always remember this quote: \"He who says he can and he who says he can't both are usually right\""
      ],
      "metadata": {
        "id": "RQ3qhkgTbd6O"
      }
    }
  ]
}