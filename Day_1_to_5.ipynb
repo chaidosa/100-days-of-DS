{
  "nbformat": 4,
  "nbformat_minor": 0,
  "metadata": {
    "colab": {
      "provenance": [],
      "authorship_tag": "ABX9TyMrnZPjf0njz3d4AUa4yIJy",
      "include_colab_link": true
    },
    "kernelspec": {
      "name": "python3",
      "display_name": "Python 3"
    },
    "language_info": {
      "name": "python"
    }
  },
  "cells": [
    {
      "cell_type": "markdown",
      "metadata": {
        "id": "view-in-github",
        "colab_type": "text"
      },
      "source": [
        "<a href=\"https://colab.research.google.com/github/chaidosa/100-days-of-DS/blob/main/Day_1_to_5.ipynb\" target=\"_parent\"><img src=\"https://colab.research.google.com/assets/colab-badge.svg\" alt=\"Open In Colab\"/></a>"
      ]
    },
    {
      "cell_type": "markdown",
      "source": [
        "# Day 1: \n",
        "  ## Install and Set Up Python and Necessary Libraries for Data Science\n",
        "In this Colab notebook, we will walk through the process of installing and setting up Python and the necessary libraries for data science. These libraries include NumPy, Pandas, and Matplotlib, which are essential tools for data manipulation, analysis, and visualization in Python.\n",
        "\n",
        "### Step 1: Install Python\n",
        "If you do not have Python installed on your machine, you can install it by following these steps:\n",
        "\n",
        "Go to the Python official website at https://www.python.org/ and navigate to the \"Downloads\" section.\n",
        "Choose the appropriate version of Python for your operating system (Windows, macOS, or Linux) and click on the download link.\n",
        "Run the installer and follow the instructions to install Python on your machine.\n"
      ],
      "metadata": {
        "id": "b0iv2S-aYeFW"
      }
    },
    {
      "cell_type": "markdown",
      "source": [
        "### Step 2: Install NumPy\n",
        "NumPy is a powerful library for numerical computing in Python. To install NumPy, you can use the following command in your Colab notebook:"
      ],
      "metadata": {
        "id": "ersRndWRZWA0"
      }
    },
    {
      "cell_type": "code",
      "execution_count": null,
      "metadata": {
        "id": "mhEncwHJYRoc"
      },
      "outputs": [],
      "source": [
        "!pip install numpy"
      ]
    },
    {
      "cell_type": "markdown",
      "source": [
        "This command will download and install the latest version of NumPy from the Python Package Index (PyPI)."
      ],
      "metadata": {
        "id": "h6lwe0LVZg-5"
      }
    },
    {
      "cell_type": "markdown",
      "source": [
        "### Step 3: Install Pandas\n",
        "Pandas is a popular library for data manipulation and analysis in Python. To install Pandas, you can use the following command"
      ],
      "metadata": {
        "id": "3EQLLNenZ1oQ"
      }
    },
    {
      "cell_type": "code",
      "source": [
        "!pip install pandas"
      ],
      "metadata": {
        "id": "6MKrfC8CZcBN"
      },
      "execution_count": null,
      "outputs": []
    },
    {
      "cell_type": "markdown",
      "source": [
        "This command will download and install the latest version of Pandas from PyPI"
      ],
      "metadata": {
        "id": "ZIS8JOBQZ8vr"
      }
    },
    {
      "cell_type": "markdown",
      "source": [
        "### Step 4: Install Matplotlib\n",
        "Matplotlib is widely used library for data visualization in Python. To install Matplotlib you can use the following command:"
      ],
      "metadata": {
        "id": "QT3kVfaHaE2r"
      }
    },
    {
      "cell_type": "code",
      "source": [
        "!pip install matplotlib"
      ],
      "metadata": {
        "id": "foQ3C3dMZ67N"
      },
      "execution_count": null,
      "outputs": []
    },
    {
      "cell_type": "markdown",
      "source": [
        "This command will download and install latest version of Matplotlib from PyPI"
      ],
      "metadata": {
        "id": "60s7INKRaWhX"
      }
    },
    {
      "cell_type": "markdown",
      "source": [
        "### Step 5: Importing Libraries\n",
        "Once you have installed NumPy, Pandas and Matplotliv, you can import them into your Python code using the \"import\" statement. For example"
      ],
      "metadata": {
        "id": "z9qaNFt-aiq6"
      }
    },
    {
      "cell_type": "code",
      "source": [
        "import numpy as np\n",
        "import pandas as pd\n",
        "import matplotlib.pyplot as plt\n"
      ],
      "metadata": {
        "id": "VaIHozjraVhe"
      },
      "execution_count": 1,
      "outputs": []
    },
    {
      "cell_type": "markdown",
      "source": [
        "This will allow you to usee functions and classes provided by these libraries in your data science projects.\n",
        "\n",
        "With Python and the necessary libraries installed and imported, you're now ready to start exploring and analyzing data using the power of data science tools in Python!"
      ],
      "metadata": {
        "id": "TpTfKzw6bClD"
      }
    },
    {
      "cell_type": "markdown",
      "source": [
        "### Conclusion\n",
        "In this Day, we have learned how to install and set up Python and the necessary libraries for data Science, including Numpy, Pandas and Matplotlib. These libraries  are fundamental tools for data manupuation, analysis, and visualization in Python, and are widely used in the data science community. By following the steps outlines in this colad notebook, you can ensure that you have the necessary software and libraries installled to perform data science task effectively using Python. In the subsequent section/days of this notebook will dive deeper into these libraries and learn how to utilize then for various data science task.\n",
        "\n",
        "#### We are just getting started and always remember this quote: \"He who says he can and he who says he can't both are usually right\""
      ],
      "metadata": {
        "id": "RQ3qhkgTbd6O"
      }
    },
    {
      "cell_type": "markdown",
      "source": [
        "# Day 2: Load and explore a dataset using Pandas\n",
        "Welcome to Day 2! In this Colab notebook, we will learn how to load and explore a dataset using the Pandas library in Python. Pandas is a powerful tool for data manipulation and analysis, and is widely used in the data science community."
      ],
      "metadata": {
        "id": "K3LPMzGEIVWh"
      }
    },
    {
      "cell_type": "markdown",
      "source": [
        "# Step 1: Load the Dataset\n",
        "To load a dataset using Pandas, we can use the read_csv() function, which allows us to read data from a CSV (Comma Separated Values) file. Here's an example:"
      ],
      "metadata": {
        "id": "tcShYDWtJUZj"
      }
    },
    {
      "cell_type": "markdown",
      "source": [
        "The read_csv() function is used to load a dataset from a CSV file. You can replace 'honda_sell_data.csv' with the appropriate file name or URL of your dataset"
      ],
      "metadata": {
        "id": "NqKY3jVKMj-a"
      }
    },
    {
      "cell_type": "code",
      "source": [
        "import pandas as pd\n",
        "\n",
        "df = pd.read_csv('honda_sell_data.csv')\n",
        "# here we are using honda sell data which can be downloaded from https://www.kaggle.com/datasets/omartorres25/honda-data?select=honda_sell_data.csv"
      ],
      "metadata": {
        "id": "jfn9LIZ_IMrt"
      },
      "execution_count": 2,
      "outputs": []
    },
    {
      "cell_type": "markdown",
      "source": [
        "###df.head() \n",
        "Returns the first few rows of the dataset for the quick overview"
      ],
      "metadata": {
        "id": "xxgvzptSKsi7"
      }
    },
    {
      "cell_type": "code",
      "source": [
        "df.head()"
      ],
      "metadata": {
        "id": "tYwJG6nUKH9X",
        "outputId": "685b2a8d-daa6-4a69-bddf-960d870f57c0",
        "colab": {
          "base_uri": "https://localhost:8080/",
          "height": 456
        }
      },
      "execution_count": 3,
      "outputs": [
        {
          "output_type": "execute_result",
          "data": {
            "text/plain": [
              "   Year   Make                      Model Condition    Price  Consumer_Rating  \\\n",
              "0  2023  Honda              Ridgeline RTL       New  $46,370              4.8   \n",
              "1  2023  Honda          CR-V Hybrid Sport       New  $34,150              1.7   \n",
              "2  2023  Honda          CR-V Hybrid Sport       New  $34,245              4.7   \n",
              "3  2022  Honda           Pilot TrailSport       New  $46,500              5.0   \n",
              "4  2023  Honda  CR-V Hybrid Sport Touring       New  $40,395              4.4   \n",
              "\n",
              "   Consumer_Review_#           Exterior_Color Interior_Color  \\\n",
              "0                  9     Platinum White Pearl          Beige   \n",
              "1                 24     Platinum White Pearl          Black   \n",
              "2               2869  Meteorite Gray Metallic          Black   \n",
              "3                 12         Sonic Gray Pearl          Black   \n",
              "4                 12      Crystal Black Pearl          Black   \n",
              "\n",
              "          Drivetrain  ...   Stock_# Mileage Comfort_Rating  \\\n",
              "0    All-wheel Drive  ...  00830164      10            5.0   \n",
              "1                FWD  ...   6402953       –            5.0   \n",
              "2  Front-wheel Drive  ...  PH704805       1            5.0   \n",
              "3    All-wheel Drive  ...  5700429B       5            5.0   \n",
              "4    All-wheel Drive  ...   5705954       5            5.0   \n",
              "\n",
              "  Interior_Design_Rating Performance_Rating Value_For_Money_Rating  \\\n",
              "0                    4.8                4.8                    4.2   \n",
              "1                    3.0                4.0                    4.0   \n",
              "2                    3.0                4.0                    4.0   \n",
              "3                    5.0                5.0                    5.0   \n",
              "4                    3.0                4.0                    4.0   \n",
              "\n",
              "  Exterior_Styling_Rating  Reliability_Rating  State  Seller_Type  \n",
              "0                     5.0                 5.0     CA       Dealer  \n",
              "1                     5.0                 5.0     CA       Dealer  \n",
              "2                     5.0                 5.0     CA       Dealer  \n",
              "3                     5.0                 5.0     CA       Dealer  \n",
              "4                     5.0                 5.0     CA       Dealer  \n",
              "\n",
              "[5 rows x 25 columns]"
            ],
            "text/html": [
              "\n",
              "  <div id=\"df-52a0c1a1-7184-4a3e-b2e2-db6d7ef217e3\">\n",
              "    <div class=\"colab-df-container\">\n",
              "      <div>\n",
              "<style scoped>\n",
              "    .dataframe tbody tr th:only-of-type {\n",
              "        vertical-align: middle;\n",
              "    }\n",
              "\n",
              "    .dataframe tbody tr th {\n",
              "        vertical-align: top;\n",
              "    }\n",
              "\n",
              "    .dataframe thead th {\n",
              "        text-align: right;\n",
              "    }\n",
              "</style>\n",
              "<table border=\"1\" class=\"dataframe\">\n",
              "  <thead>\n",
              "    <tr style=\"text-align: right;\">\n",
              "      <th></th>\n",
              "      <th>Year</th>\n",
              "      <th>Make</th>\n",
              "      <th>Model</th>\n",
              "      <th>Condition</th>\n",
              "      <th>Price</th>\n",
              "      <th>Consumer_Rating</th>\n",
              "      <th>Consumer_Review_#</th>\n",
              "      <th>Exterior_Color</th>\n",
              "      <th>Interior_Color</th>\n",
              "      <th>Drivetrain</th>\n",
              "      <th>...</th>\n",
              "      <th>Stock_#</th>\n",
              "      <th>Mileage</th>\n",
              "      <th>Comfort_Rating</th>\n",
              "      <th>Interior_Design_Rating</th>\n",
              "      <th>Performance_Rating</th>\n",
              "      <th>Value_For_Money_Rating</th>\n",
              "      <th>Exterior_Styling_Rating</th>\n",
              "      <th>Reliability_Rating</th>\n",
              "      <th>State</th>\n",
              "      <th>Seller_Type</th>\n",
              "    </tr>\n",
              "  </thead>\n",
              "  <tbody>\n",
              "    <tr>\n",
              "      <th>0</th>\n",
              "      <td>2023</td>\n",
              "      <td>Honda</td>\n",
              "      <td>Ridgeline RTL</td>\n",
              "      <td>New</td>\n",
              "      <td>$46,370</td>\n",
              "      <td>4.8</td>\n",
              "      <td>9</td>\n",
              "      <td>Platinum White Pearl</td>\n",
              "      <td>Beige</td>\n",
              "      <td>All-wheel Drive</td>\n",
              "      <td>...</td>\n",
              "      <td>00830164</td>\n",
              "      <td>10</td>\n",
              "      <td>5.0</td>\n",
              "      <td>4.8</td>\n",
              "      <td>4.8</td>\n",
              "      <td>4.2</td>\n",
              "      <td>5.0</td>\n",
              "      <td>5.0</td>\n",
              "      <td>CA</td>\n",
              "      <td>Dealer</td>\n",
              "    </tr>\n",
              "    <tr>\n",
              "      <th>1</th>\n",
              "      <td>2023</td>\n",
              "      <td>Honda</td>\n",
              "      <td>CR-V Hybrid Sport</td>\n",
              "      <td>New</td>\n",
              "      <td>$34,150</td>\n",
              "      <td>1.7</td>\n",
              "      <td>24</td>\n",
              "      <td>Platinum White Pearl</td>\n",
              "      <td>Black</td>\n",
              "      <td>FWD</td>\n",
              "      <td>...</td>\n",
              "      <td>6402953</td>\n",
              "      <td>–</td>\n",
              "      <td>5.0</td>\n",
              "      <td>3.0</td>\n",
              "      <td>4.0</td>\n",
              "      <td>4.0</td>\n",
              "      <td>5.0</td>\n",
              "      <td>5.0</td>\n",
              "      <td>CA</td>\n",
              "      <td>Dealer</td>\n",
              "    </tr>\n",
              "    <tr>\n",
              "      <th>2</th>\n",
              "      <td>2023</td>\n",
              "      <td>Honda</td>\n",
              "      <td>CR-V Hybrid Sport</td>\n",
              "      <td>New</td>\n",
              "      <td>$34,245</td>\n",
              "      <td>4.7</td>\n",
              "      <td>2869</td>\n",
              "      <td>Meteorite Gray Metallic</td>\n",
              "      <td>Black</td>\n",
              "      <td>Front-wheel Drive</td>\n",
              "      <td>...</td>\n",
              "      <td>PH704805</td>\n",
              "      <td>1</td>\n",
              "      <td>5.0</td>\n",
              "      <td>3.0</td>\n",
              "      <td>4.0</td>\n",
              "      <td>4.0</td>\n",
              "      <td>5.0</td>\n",
              "      <td>5.0</td>\n",
              "      <td>CA</td>\n",
              "      <td>Dealer</td>\n",
              "    </tr>\n",
              "    <tr>\n",
              "      <th>3</th>\n",
              "      <td>2022</td>\n",
              "      <td>Honda</td>\n",
              "      <td>Pilot TrailSport</td>\n",
              "      <td>New</td>\n",
              "      <td>$46,500</td>\n",
              "      <td>5.0</td>\n",
              "      <td>12</td>\n",
              "      <td>Sonic Gray Pearl</td>\n",
              "      <td>Black</td>\n",
              "      <td>All-wheel Drive</td>\n",
              "      <td>...</td>\n",
              "      <td>5700429B</td>\n",
              "      <td>5</td>\n",
              "      <td>5.0</td>\n",
              "      <td>5.0</td>\n",
              "      <td>5.0</td>\n",
              "      <td>5.0</td>\n",
              "      <td>5.0</td>\n",
              "      <td>5.0</td>\n",
              "      <td>CA</td>\n",
              "      <td>Dealer</td>\n",
              "    </tr>\n",
              "    <tr>\n",
              "      <th>4</th>\n",
              "      <td>2023</td>\n",
              "      <td>Honda</td>\n",
              "      <td>CR-V Hybrid Sport Touring</td>\n",
              "      <td>New</td>\n",
              "      <td>$40,395</td>\n",
              "      <td>4.4</td>\n",
              "      <td>12</td>\n",
              "      <td>Crystal Black Pearl</td>\n",
              "      <td>Black</td>\n",
              "      <td>All-wheel Drive</td>\n",
              "      <td>...</td>\n",
              "      <td>5705954</td>\n",
              "      <td>5</td>\n",
              "      <td>5.0</td>\n",
              "      <td>3.0</td>\n",
              "      <td>4.0</td>\n",
              "      <td>4.0</td>\n",
              "      <td>5.0</td>\n",
              "      <td>5.0</td>\n",
              "      <td>CA</td>\n",
              "      <td>Dealer</td>\n",
              "    </tr>\n",
              "  </tbody>\n",
              "</table>\n",
              "<p>5 rows × 25 columns</p>\n",
              "</div>\n",
              "      <button class=\"colab-df-convert\" onclick=\"convertToInteractive('df-52a0c1a1-7184-4a3e-b2e2-db6d7ef217e3')\"\n",
              "              title=\"Convert this dataframe to an interactive table.\"\n",
              "              style=\"display:none;\">\n",
              "        \n",
              "  <svg xmlns=\"http://www.w3.org/2000/svg\" height=\"24px\"viewBox=\"0 0 24 24\"\n",
              "       width=\"24px\">\n",
              "    <path d=\"M0 0h24v24H0V0z\" fill=\"none\"/>\n",
              "    <path d=\"M18.56 5.44l.94 2.06.94-2.06 2.06-.94-2.06-.94-.94-2.06-.94 2.06-2.06.94zm-11 1L8.5 8.5l.94-2.06 2.06-.94-2.06-.94L8.5 2.5l-.94 2.06-2.06.94zm10 10l.94 2.06.94-2.06 2.06-.94-2.06-.94-.94-2.06-.94 2.06-2.06.94z\"/><path d=\"M17.41 7.96l-1.37-1.37c-.4-.4-.92-.59-1.43-.59-.52 0-1.04.2-1.43.59L10.3 9.45l-7.72 7.72c-.78.78-.78 2.05 0 2.83L4 21.41c.39.39.9.59 1.41.59.51 0 1.02-.2 1.41-.59l7.78-7.78 2.81-2.81c.8-.78.8-2.07 0-2.86zM5.41 20L4 18.59l7.72-7.72 1.47 1.35L5.41 20z\"/>\n",
              "  </svg>\n",
              "      </button>\n",
              "      \n",
              "  <style>\n",
              "    .colab-df-container {\n",
              "      display:flex;\n",
              "      flex-wrap:wrap;\n",
              "      gap: 12px;\n",
              "    }\n",
              "\n",
              "    .colab-df-convert {\n",
              "      background-color: #E8F0FE;\n",
              "      border: none;\n",
              "      border-radius: 50%;\n",
              "      cursor: pointer;\n",
              "      display: none;\n",
              "      fill: #1967D2;\n",
              "      height: 32px;\n",
              "      padding: 0 0 0 0;\n",
              "      width: 32px;\n",
              "    }\n",
              "\n",
              "    .colab-df-convert:hover {\n",
              "      background-color: #E2EBFA;\n",
              "      box-shadow: 0px 1px 2px rgba(60, 64, 67, 0.3), 0px 1px 3px 1px rgba(60, 64, 67, 0.15);\n",
              "      fill: #174EA6;\n",
              "    }\n",
              "\n",
              "    [theme=dark] .colab-df-convert {\n",
              "      background-color: #3B4455;\n",
              "      fill: #D2E3FC;\n",
              "    }\n",
              "\n",
              "    [theme=dark] .colab-df-convert:hover {\n",
              "      background-color: #434B5C;\n",
              "      box-shadow: 0px 1px 3px 1px rgba(0, 0, 0, 0.15);\n",
              "      filter: drop-shadow(0px 1px 2px rgba(0, 0, 0, 0.3));\n",
              "      fill: #FFFFFF;\n",
              "    }\n",
              "  </style>\n",
              "\n",
              "      <script>\n",
              "        const buttonEl =\n",
              "          document.querySelector('#df-52a0c1a1-7184-4a3e-b2e2-db6d7ef217e3 button.colab-df-convert');\n",
              "        buttonEl.style.display =\n",
              "          google.colab.kernel.accessAllowed ? 'block' : 'none';\n",
              "\n",
              "        async function convertToInteractive(key) {\n",
              "          const element = document.querySelector('#df-52a0c1a1-7184-4a3e-b2e2-db6d7ef217e3');\n",
              "          const dataTable =\n",
              "            await google.colab.kernel.invokeFunction('convertToInteractive',\n",
              "                                                     [key], {});\n",
              "          if (!dataTable) return;\n",
              "\n",
              "          const docLinkHtml = 'Like what you see? Visit the ' +\n",
              "            '<a target=\"_blank\" href=https://colab.research.google.com/notebooks/data_table.ipynb>data table notebook</a>'\n",
              "            + ' to learn more about interactive tables.';\n",
              "          element.innerHTML = '';\n",
              "          dataTable['output_type'] = 'display_data';\n",
              "          await google.colab.output.renderOutput(dataTable, element);\n",
              "          const docLink = document.createElement('div');\n",
              "          docLink.innerHTML = docLinkHtml;\n",
              "          element.appendChild(docLink);\n",
              "        }\n",
              "      </script>\n",
              "    </div>\n",
              "  </div>\n",
              "  "
            ]
          },
          "metadata": {},
          "execution_count": 3
        }
      ]
    },
    {
      "cell_type": "markdown",
      "source": [
        "###df.info(): \n",
        "Provides information about the dataset, such as the number of rows, columns, data types, and missing values."
      ],
      "metadata": {
        "id": "u0SdHR2IK7I_"
      }
    },
    {
      "cell_type": "code",
      "source": [
        "df.info()"
      ],
      "metadata": {
        "id": "OUAlOJzAKdny",
        "outputId": "8d2ef3dd-f0d5-4bc6-a1d3-64b01636422f",
        "colab": {
          "base_uri": "https://localhost:8080/"
        }
      },
      "execution_count": 4,
      "outputs": [
        {
          "output_type": "stream",
          "name": "stdout",
          "text": [
            "<class 'pandas.core.frame.DataFrame'>\n",
            "RangeIndex: 4999 entries, 0 to 4998\n",
            "Data columns (total 25 columns):\n",
            " #   Column                   Non-Null Count  Dtype  \n",
            "---  ------                   --------------  -----  \n",
            " 0   Year                     4999 non-null   int64  \n",
            " 1   Make                     4999 non-null   object \n",
            " 2   Model                    4999 non-null   object \n",
            " 3   Condition                4999 non-null   object \n",
            " 4   Price                    4999 non-null   object \n",
            " 5   Consumer_Rating          4999 non-null   float64\n",
            " 6   Consumer_Review_#        4999 non-null   int64  \n",
            " 7   Exterior_Color           4988 non-null   object \n",
            " 8   Interior_Color           4988 non-null   object \n",
            " 9   Drivetrain               4988 non-null   object \n",
            " 10  MPG                      3514 non-null   object \n",
            " 11  Fuel_Type                4988 non-null   object \n",
            " 12  Transmission             4988 non-null   object \n",
            " 13  Engine                   4988 non-null   object \n",
            " 14  VIN                      4988 non-null   object \n",
            " 15  Stock_#                  4988 non-null   object \n",
            " 16  Mileage                  4988 non-null   object \n",
            " 17  Comfort_Rating           4447 non-null   float64\n",
            " 18  Interior_Design_Rating   4447 non-null   float64\n",
            " 19  Performance_Rating       4447 non-null   float64\n",
            " 20  Value_For_Money_Rating   4447 non-null   float64\n",
            " 21  Exterior_Styling_Rating  4447 non-null   float64\n",
            " 22  Reliability_Rating       4447 non-null   float64\n",
            " 23  State                    4926 non-null   object \n",
            " 24  Seller_Type              4926 non-null   object \n",
            "dtypes: float64(7), int64(2), object(16)\n",
            "memory usage: 976.5+ KB\n"
          ]
        }
      ]
    },
    {
      "cell_type": "markdown",
      "source": [
        "###df.describe(): \n",
        "Generates summary statistics for the numerical columns in the dataset, including count, mean, standard deviation, minimum, and maximum values"
      ],
      "metadata": {
        "id": "hRZQqzRpLTxJ"
      }
    },
    {
      "cell_type": "code",
      "source": [
        "df.describe()"
      ],
      "metadata": {
        "id": "RsSNML4pLIOs",
        "outputId": "edf6cb05-e67d-4327-b106-4d1ebbb2e04a",
        "colab": {
          "base_uri": "https://localhost:8080/",
          "height": 300
        }
      },
      "execution_count": 5,
      "outputs": [
        {
          "output_type": "execute_result",
          "data": {
            "text/plain": [
              "              Year  Consumer_Rating  Consumer_Review_#  Comfort_Rating  \\\n",
              "count  4999.000000      4999.000000        4999.000000      4447.00000   \n",
              "mean   2020.507702         4.569654        1288.366673         4.81754   \n",
              "std       3.711361         0.542453        1969.998095         0.25903   \n",
              "min    1981.000000         1.200000           0.000000         3.80000   \n",
              "25%    2019.000000         4.400000         126.000000         4.70000   \n",
              "50%    2022.000000         4.700000         697.000000         4.90000   \n",
              "75%    2023.000000         4.900000        1695.500000         5.00000   \n",
              "max    2023.000000         5.000000       29258.000000         5.00000   \n",
              "\n",
              "       Interior_Design_Rating  Performance_Rating  Value_For_Money_Rating  \\\n",
              "count             4447.000000         4447.000000             4447.000000   \n",
              "mean                 4.706814            4.663931                4.580976   \n",
              "std                  0.476941            0.351680                0.372107   \n",
              "min                  3.000000            3.600000                3.600000   \n",
              "25%                  4.700000            4.500000                4.200000   \n",
              "50%                  4.800000            4.800000                4.600000   \n",
              "75%                  5.000000            5.000000                5.000000   \n",
              "max                  5.000000            5.000000                5.000000   \n",
              "\n",
              "       Exterior_Styling_Rating  Reliability_Rating  \n",
              "count              4447.000000         4447.000000  \n",
              "mean                  4.731954            4.866269  \n",
              "std                   0.313093            0.190886  \n",
              "min                   3.900000            4.000000  \n",
              "25%                   4.600000            4.800000  \n",
              "50%                   4.800000            5.000000  \n",
              "75%                   5.000000            5.000000  \n",
              "max                   5.000000            5.000000  "
            ],
            "text/html": [
              "\n",
              "  <div id=\"df-cad4dd29-a429-4772-acf9-ee876bd0bd78\">\n",
              "    <div class=\"colab-df-container\">\n",
              "      <div>\n",
              "<style scoped>\n",
              "    .dataframe tbody tr th:only-of-type {\n",
              "        vertical-align: middle;\n",
              "    }\n",
              "\n",
              "    .dataframe tbody tr th {\n",
              "        vertical-align: top;\n",
              "    }\n",
              "\n",
              "    .dataframe thead th {\n",
              "        text-align: right;\n",
              "    }\n",
              "</style>\n",
              "<table border=\"1\" class=\"dataframe\">\n",
              "  <thead>\n",
              "    <tr style=\"text-align: right;\">\n",
              "      <th></th>\n",
              "      <th>Year</th>\n",
              "      <th>Consumer_Rating</th>\n",
              "      <th>Consumer_Review_#</th>\n",
              "      <th>Comfort_Rating</th>\n",
              "      <th>Interior_Design_Rating</th>\n",
              "      <th>Performance_Rating</th>\n",
              "      <th>Value_For_Money_Rating</th>\n",
              "      <th>Exterior_Styling_Rating</th>\n",
              "      <th>Reliability_Rating</th>\n",
              "    </tr>\n",
              "  </thead>\n",
              "  <tbody>\n",
              "    <tr>\n",
              "      <th>count</th>\n",
              "      <td>4999.000000</td>\n",
              "      <td>4999.000000</td>\n",
              "      <td>4999.000000</td>\n",
              "      <td>4447.00000</td>\n",
              "      <td>4447.000000</td>\n",
              "      <td>4447.000000</td>\n",
              "      <td>4447.000000</td>\n",
              "      <td>4447.000000</td>\n",
              "      <td>4447.000000</td>\n",
              "    </tr>\n",
              "    <tr>\n",
              "      <th>mean</th>\n",
              "      <td>2020.507702</td>\n",
              "      <td>4.569654</td>\n",
              "      <td>1288.366673</td>\n",
              "      <td>4.81754</td>\n",
              "      <td>4.706814</td>\n",
              "      <td>4.663931</td>\n",
              "      <td>4.580976</td>\n",
              "      <td>4.731954</td>\n",
              "      <td>4.866269</td>\n",
              "    </tr>\n",
              "    <tr>\n",
              "      <th>std</th>\n",
              "      <td>3.711361</td>\n",
              "      <td>0.542453</td>\n",
              "      <td>1969.998095</td>\n",
              "      <td>0.25903</td>\n",
              "      <td>0.476941</td>\n",
              "      <td>0.351680</td>\n",
              "      <td>0.372107</td>\n",
              "      <td>0.313093</td>\n",
              "      <td>0.190886</td>\n",
              "    </tr>\n",
              "    <tr>\n",
              "      <th>min</th>\n",
              "      <td>1981.000000</td>\n",
              "      <td>1.200000</td>\n",
              "      <td>0.000000</td>\n",
              "      <td>3.80000</td>\n",
              "      <td>3.000000</td>\n",
              "      <td>3.600000</td>\n",
              "      <td>3.600000</td>\n",
              "      <td>3.900000</td>\n",
              "      <td>4.000000</td>\n",
              "    </tr>\n",
              "    <tr>\n",
              "      <th>25%</th>\n",
              "      <td>2019.000000</td>\n",
              "      <td>4.400000</td>\n",
              "      <td>126.000000</td>\n",
              "      <td>4.70000</td>\n",
              "      <td>4.700000</td>\n",
              "      <td>4.500000</td>\n",
              "      <td>4.200000</td>\n",
              "      <td>4.600000</td>\n",
              "      <td>4.800000</td>\n",
              "    </tr>\n",
              "    <tr>\n",
              "      <th>50%</th>\n",
              "      <td>2022.000000</td>\n",
              "      <td>4.700000</td>\n",
              "      <td>697.000000</td>\n",
              "      <td>4.90000</td>\n",
              "      <td>4.800000</td>\n",
              "      <td>4.800000</td>\n",
              "      <td>4.600000</td>\n",
              "      <td>4.800000</td>\n",
              "      <td>5.000000</td>\n",
              "    </tr>\n",
              "    <tr>\n",
              "      <th>75%</th>\n",
              "      <td>2023.000000</td>\n",
              "      <td>4.900000</td>\n",
              "      <td>1695.500000</td>\n",
              "      <td>5.00000</td>\n",
              "      <td>5.000000</td>\n",
              "      <td>5.000000</td>\n",
              "      <td>5.000000</td>\n",
              "      <td>5.000000</td>\n",
              "      <td>5.000000</td>\n",
              "    </tr>\n",
              "    <tr>\n",
              "      <th>max</th>\n",
              "      <td>2023.000000</td>\n",
              "      <td>5.000000</td>\n",
              "      <td>29258.000000</td>\n",
              "      <td>5.00000</td>\n",
              "      <td>5.000000</td>\n",
              "      <td>5.000000</td>\n",
              "      <td>5.000000</td>\n",
              "      <td>5.000000</td>\n",
              "      <td>5.000000</td>\n",
              "    </tr>\n",
              "  </tbody>\n",
              "</table>\n",
              "</div>\n",
              "      <button class=\"colab-df-convert\" onclick=\"convertToInteractive('df-cad4dd29-a429-4772-acf9-ee876bd0bd78')\"\n",
              "              title=\"Convert this dataframe to an interactive table.\"\n",
              "              style=\"display:none;\">\n",
              "        \n",
              "  <svg xmlns=\"http://www.w3.org/2000/svg\" height=\"24px\"viewBox=\"0 0 24 24\"\n",
              "       width=\"24px\">\n",
              "    <path d=\"M0 0h24v24H0V0z\" fill=\"none\"/>\n",
              "    <path d=\"M18.56 5.44l.94 2.06.94-2.06 2.06-.94-2.06-.94-.94-2.06-.94 2.06-2.06.94zm-11 1L8.5 8.5l.94-2.06 2.06-.94-2.06-.94L8.5 2.5l-.94 2.06-2.06.94zm10 10l.94 2.06.94-2.06 2.06-.94-2.06-.94-.94-2.06-.94 2.06-2.06.94z\"/><path d=\"M17.41 7.96l-1.37-1.37c-.4-.4-.92-.59-1.43-.59-.52 0-1.04.2-1.43.59L10.3 9.45l-7.72 7.72c-.78.78-.78 2.05 0 2.83L4 21.41c.39.39.9.59 1.41.59.51 0 1.02-.2 1.41-.59l7.78-7.78 2.81-2.81c.8-.78.8-2.07 0-2.86zM5.41 20L4 18.59l7.72-7.72 1.47 1.35L5.41 20z\"/>\n",
              "  </svg>\n",
              "      </button>\n",
              "      \n",
              "  <style>\n",
              "    .colab-df-container {\n",
              "      display:flex;\n",
              "      flex-wrap:wrap;\n",
              "      gap: 12px;\n",
              "    }\n",
              "\n",
              "    .colab-df-convert {\n",
              "      background-color: #E8F0FE;\n",
              "      border: none;\n",
              "      border-radius: 50%;\n",
              "      cursor: pointer;\n",
              "      display: none;\n",
              "      fill: #1967D2;\n",
              "      height: 32px;\n",
              "      padding: 0 0 0 0;\n",
              "      width: 32px;\n",
              "    }\n",
              "\n",
              "    .colab-df-convert:hover {\n",
              "      background-color: #E2EBFA;\n",
              "      box-shadow: 0px 1px 2px rgba(60, 64, 67, 0.3), 0px 1px 3px 1px rgba(60, 64, 67, 0.15);\n",
              "      fill: #174EA6;\n",
              "    }\n",
              "\n",
              "    [theme=dark] .colab-df-convert {\n",
              "      background-color: #3B4455;\n",
              "      fill: #D2E3FC;\n",
              "    }\n",
              "\n",
              "    [theme=dark] .colab-df-convert:hover {\n",
              "      background-color: #434B5C;\n",
              "      box-shadow: 0px 1px 3px 1px rgba(0, 0, 0, 0.15);\n",
              "      filter: drop-shadow(0px 1px 2px rgba(0, 0, 0, 0.3));\n",
              "      fill: #FFFFFF;\n",
              "    }\n",
              "  </style>\n",
              "\n",
              "      <script>\n",
              "        const buttonEl =\n",
              "          document.querySelector('#df-cad4dd29-a429-4772-acf9-ee876bd0bd78 button.colab-df-convert');\n",
              "        buttonEl.style.display =\n",
              "          google.colab.kernel.accessAllowed ? 'block' : 'none';\n",
              "\n",
              "        async function convertToInteractive(key) {\n",
              "          const element = document.querySelector('#df-cad4dd29-a429-4772-acf9-ee876bd0bd78');\n",
              "          const dataTable =\n",
              "            await google.colab.kernel.invokeFunction('convertToInteractive',\n",
              "                                                     [key], {});\n",
              "          if (!dataTable) return;\n",
              "\n",
              "          const docLinkHtml = 'Like what you see? Visit the ' +\n",
              "            '<a target=\"_blank\" href=https://colab.research.google.com/notebooks/data_table.ipynb>data table notebook</a>'\n",
              "            + ' to learn more about interactive tables.';\n",
              "          element.innerHTML = '';\n",
              "          dataTable['output_type'] = 'display_data';\n",
              "          await google.colab.output.renderOutput(dataTable, element);\n",
              "          const docLink = document.createElement('div');\n",
              "          docLink.innerHTML = docLinkHtml;\n",
              "          element.appendChild(docLink);\n",
              "        }\n",
              "      </script>\n",
              "    </div>\n",
              "  </div>\n",
              "  "
            ]
          },
          "metadata": {},
          "execution_count": 5
        }
      ]
    },
    {
      "cell_type": "markdown",
      "source": [
        "###df.shape:\n",
        " Returns the dimensions (rows and columns) of the dataset."
      ],
      "metadata": {
        "id": "MI3invKILoHb"
      }
    },
    {
      "cell_type": "code",
      "source": [
        "df.shape"
      ],
      "metadata": {
        "id": "9DGUOmHJLZrL",
        "outputId": "aae95fb7-6284-4098-dd2b-f17845548a5a",
        "colab": {
          "base_uri": "https://localhost:8080/"
        }
      },
      "execution_count": 6,
      "outputs": [
        {
          "output_type": "execute_result",
          "data": {
            "text/plain": [
              "(4999, 25)"
            ]
          },
          "metadata": {},
          "execution_count": 6
        }
      ]
    },
    {
      "cell_type": "markdown",
      "source": [
        "###df.columns\n",
        "Returns the column names of the dataset"
      ],
      "metadata": {
        "id": "3Bh_EoEkLw5A"
      }
    },
    {
      "cell_type": "code",
      "source": [
        "df.columns"
      ],
      "metadata": {
        "id": "qrq76TeFLrUh",
        "outputId": "60c3ecce-9bcd-4619-d235-805ce30767d7",
        "colab": {
          "base_uri": "https://localhost:8080/"
        }
      },
      "execution_count": 7,
      "outputs": [
        {
          "output_type": "execute_result",
          "data": {
            "text/plain": [
              "Index(['Year', 'Make', 'Model', 'Condition', 'Price', 'Consumer_Rating',\n",
              "       'Consumer_Review_#', 'Exterior_Color', 'Interior_Color', 'Drivetrain',\n",
              "       'MPG', 'Fuel_Type', 'Transmission', 'Engine', 'VIN', 'Stock_#',\n",
              "       'Mileage', 'Comfort_Rating', 'Interior_Design_Rating',\n",
              "       'Performance_Rating', 'Value_For_Money_Rating',\n",
              "       'Exterior_Styling_Rating', 'Reliability_Rating', 'State',\n",
              "       'Seller_Type'],\n",
              "      dtype='object')"
            ]
          },
          "metadata": {},
          "execution_count": 7
        }
      ]
    },
    {
      "cell_type": "markdown",
      "source": [
        "###df.dtypes\n",
        "Returns the data types of each column in the dataset"
      ],
      "metadata": {
        "id": "euPwyRVKL78t"
      }
    },
    {
      "cell_type": "code",
      "source": [
        "df.dtypes"
      ],
      "metadata": {
        "id": "mFRujmWZL6lO",
        "outputId": "1d81f1ef-2b83-4d6d-d244-5e2cee19e8fc",
        "colab": {
          "base_uri": "https://localhost:8080/"
        }
      },
      "execution_count": 8,
      "outputs": [
        {
          "output_type": "execute_result",
          "data": {
            "text/plain": [
              "Year                         int64\n",
              "Make                        object\n",
              "Model                       object\n",
              "Condition                   object\n",
              "Price                       object\n",
              "Consumer_Rating            float64\n",
              "Consumer_Review_#            int64\n",
              "Exterior_Color              object\n",
              "Interior_Color              object\n",
              "Drivetrain                  object\n",
              "MPG                         object\n",
              "Fuel_Type                   object\n",
              "Transmission                object\n",
              "Engine                      object\n",
              "VIN                         object\n",
              "Stock_#                     object\n",
              "Mileage                     object\n",
              "Comfort_Rating             float64\n",
              "Interior_Design_Rating     float64\n",
              "Performance_Rating         float64\n",
              "Value_For_Money_Rating     float64\n",
              "Exterior_Styling_Rating    float64\n",
              "Reliability_Rating         float64\n",
              "State                       object\n",
              "Seller_Type                 object\n",
              "dtype: object"
            ]
          },
          "metadata": {},
          "execution_count": 8
        }
      ]
    },
    {
      "cell_type": "markdown",
      "source": [
        "In this section, we have learned how to load and explore a dataset using Pandas in Python. By leveraging Pandas' powerful data manipulation and analysis capabilities, we can gain insights into the data and prepare it for further analysis. In the next sections of this Colab notebook, we will dive deeper into data analysis techniques using Pandas to extract valuable information from the dataset. Stay tuned! \n",
        "\n",
        "Please practice try the experiments read the documents https://pandas.pydata.org/docs/ try exploring as much as you can"
      ],
      "metadata": {
        "id": "3splJOuSNEL5"
      }
    },
    {
      "cell_type": "markdown",
      "source": [
        "#Day 3: Clean and preprocess data\n",
        "In this notebook, we will learn how to clean and preprocess data using Pandas in Python. We will cover common data cleaning tasks, such as handling missing values and data normalization, to ensure that our data is ready for analysis or visualization."
      ],
      "metadata": {
        "id": "6zMWoNe6oQDR"
      }
    },
    {
      "cell_type": "markdown",
      "source": [
        "### Loading the dataset\n",
        "For this example We'll load the 'iris' dataset from the Seaborn library"
      ],
      "metadata": {
        "id": "zwPxYXM_q7aY"
      }
    },
    {
      "cell_type": "code",
      "source": [
        "import seaborn as sns\n",
        "\n",
        "iris_df = sns.load_dataset('iris')"
      ],
      "metadata": {
        "id": "of8w8cu-Nao2"
      },
      "execution_count": 29,
      "outputs": []
    },
    {
      "cell_type": "markdown",
      "source": [
        "The 'iris' dataset contain the information about the flower species setosa, Iris versicolor and Iris virginica. The dataseet include measurement for the length and width of the sepals and petals for each flower, as well as the corresponding species.\n"
      ],
      "metadata": {
        "id": "i5EK0_hOrX_0"
      }
    },
    {
      "cell_type": "code",
      "source": [
        "type(iris_df)"
      ],
      "metadata": {
        "id": "7LmwtEfpsBu5",
        "outputId": "ff67d5db-0617-49d6-978c-5f1f70ceebe6",
        "colab": {
          "base_uri": "https://localhost:8080/"
        }
      },
      "execution_count": 30,
      "outputs": [
        {
          "output_type": "execute_result",
          "data": {
            "text/plain": [
              "pandas.core.frame.DataFrame"
            ]
          },
          "metadata": {},
          "execution_count": 30
        }
      ]
    },
    {
      "cell_type": "code",
      "source": [
        "# How many data points and features\n",
        "iris_df.shape"
      ],
      "metadata": {
        "id": "BDsvPJvFumQF",
        "outputId": "7cdd0155-487d-420d-c92c-cf8982f63ab4",
        "colab": {
          "base_uri": "https://localhost:8080/"
        }
      },
      "execution_count": 31,
      "outputs": [
        {
          "output_type": "execute_result",
          "data": {
            "text/plain": [
              "(150, 5)"
            ]
          },
          "metadata": {},
          "execution_count": 31
        }
      ]
    },
    {
      "cell_type": "code",
      "source": [
        "# what are the column in our dataset\n",
        "iris_df.columns"
      ],
      "metadata": {
        "id": "kWgVNWktuq-F",
        "outputId": "fb99680f-2889-435d-f3a7-976b2750cd62",
        "colab": {
          "base_uri": "https://localhost:8080/"
        }
      },
      "execution_count": 32,
      "outputs": [
        {
          "output_type": "execute_result",
          "data": {
            "text/plain": [
              "Index(['sepal_length', 'sepal_width', 'petal_length', 'petal_width',\n",
              "       'species'],\n",
              "      dtype='object')"
            ]
          },
          "metadata": {},
          "execution_count": 32
        }
      ]
    },
    {
      "cell_type": "code",
      "source": [
        "# How many datapoints for each class are present\n",
        "iris_df[\"species\"].value_counts()"
      ],
      "metadata": {
        "id": "PTjXgdyPu2KG",
        "outputId": "99fa36d9-3304-4e69-e5fa-1810856fe87d",
        "colab": {
          "base_uri": "https://localhost:8080/"
        }
      },
      "execution_count": 33,
      "outputs": [
        {
          "output_type": "execute_result",
          "data": {
            "text/plain": [
              "setosa        50\n",
              "versicolor    50\n",
              "virginica     50\n",
              "Name: species, dtype: int64"
            ]
          },
          "metadata": {},
          "execution_count": 33
        }
      ]
    },
    {
      "cell_type": "code",
      "source": [
        "# Check for the missing values\n",
        "iris_df.isnull().sum()"
      ],
      "metadata": {
        "id": "WeBhEokxrVzD",
        "outputId": "5af69b47-21bc-4cac-d6b5-f2e0ae751cc2",
        "colab": {
          "base_uri": "https://localhost:8080/"
        }
      },
      "execution_count": 34,
      "outputs": [
        {
          "output_type": "execute_result",
          "data": {
            "text/plain": [
              "sepal_length    0\n",
              "sepal_width     0\n",
              "petal_length    0\n",
              "petal_width     0\n",
              "species         0\n",
              "dtype: int64"
            ]
          },
          "metadata": {},
          "execution_count": 34
        }
      ]
    },
    {
      "cell_type": "code",
      "source": [
        "# Drop rows with missing values\n",
        "iris_df.dropna(inplace=True)"
      ],
      "metadata": {
        "id": "vKuPro06r7Ka"
      },
      "execution_count": 35,
      "outputs": []
    },
    {
      "cell_type": "code",
      "source": [
        "# Fill missing values with specific value or method\n",
        "iris_df.fillna(value=0, inplace=True)"
      ],
      "metadata": {
        "id": "Adw0RiADsew0"
      },
      "execution_count": 36,
      "outputs": []
    },
    {
      "cell_type": "code",
      "source": [
        "# Fill missing values with linear interpolation\n",
        "iris_df.interpolate(inplace=True)"
      ],
      "metadata": {
        "id": "_nXJR8VCsowk"
      },
      "execution_count": 37,
      "outputs": []
    },
    {
      "cell_type": "code",
      "source": [
        "iris_df.tail()"
      ],
      "metadata": {
        "id": "vBObwHCBszGb",
        "outputId": "9037d678-cc0f-43e1-c5ad-b2d3255112af",
        "colab": {
          "base_uri": "https://localhost:8080/",
          "height": 206
        }
      },
      "execution_count": 38,
      "outputs": [
        {
          "output_type": "execute_result",
          "data": {
            "text/plain": [
              "     sepal_length  sepal_width  petal_length  petal_width    species\n",
              "145           6.7          3.0           5.2          2.3  virginica\n",
              "146           6.3          2.5           5.0          1.9  virginica\n",
              "147           6.5          3.0           5.2          2.0  virginica\n",
              "148           6.2          3.4           5.4          2.3  virginica\n",
              "149           5.9          3.0           5.1          1.8  virginica"
            ],
            "text/html": [
              "\n",
              "  <div id=\"df-8a3a4878-6872-448f-ab8f-a9e5d3981810\">\n",
              "    <div class=\"colab-df-container\">\n",
              "      <div>\n",
              "<style scoped>\n",
              "    .dataframe tbody tr th:only-of-type {\n",
              "        vertical-align: middle;\n",
              "    }\n",
              "\n",
              "    .dataframe tbody tr th {\n",
              "        vertical-align: top;\n",
              "    }\n",
              "\n",
              "    .dataframe thead th {\n",
              "        text-align: right;\n",
              "    }\n",
              "</style>\n",
              "<table border=\"1\" class=\"dataframe\">\n",
              "  <thead>\n",
              "    <tr style=\"text-align: right;\">\n",
              "      <th></th>\n",
              "      <th>sepal_length</th>\n",
              "      <th>sepal_width</th>\n",
              "      <th>petal_length</th>\n",
              "      <th>petal_width</th>\n",
              "      <th>species</th>\n",
              "    </tr>\n",
              "  </thead>\n",
              "  <tbody>\n",
              "    <tr>\n",
              "      <th>145</th>\n",
              "      <td>6.7</td>\n",
              "      <td>3.0</td>\n",
              "      <td>5.2</td>\n",
              "      <td>2.3</td>\n",
              "      <td>virginica</td>\n",
              "    </tr>\n",
              "    <tr>\n",
              "      <th>146</th>\n",
              "      <td>6.3</td>\n",
              "      <td>2.5</td>\n",
              "      <td>5.0</td>\n",
              "      <td>1.9</td>\n",
              "      <td>virginica</td>\n",
              "    </tr>\n",
              "    <tr>\n",
              "      <th>147</th>\n",
              "      <td>6.5</td>\n",
              "      <td>3.0</td>\n",
              "      <td>5.2</td>\n",
              "      <td>2.0</td>\n",
              "      <td>virginica</td>\n",
              "    </tr>\n",
              "    <tr>\n",
              "      <th>148</th>\n",
              "      <td>6.2</td>\n",
              "      <td>3.4</td>\n",
              "      <td>5.4</td>\n",
              "      <td>2.3</td>\n",
              "      <td>virginica</td>\n",
              "    </tr>\n",
              "    <tr>\n",
              "      <th>149</th>\n",
              "      <td>5.9</td>\n",
              "      <td>3.0</td>\n",
              "      <td>5.1</td>\n",
              "      <td>1.8</td>\n",
              "      <td>virginica</td>\n",
              "    </tr>\n",
              "  </tbody>\n",
              "</table>\n",
              "</div>\n",
              "      <button class=\"colab-df-convert\" onclick=\"convertToInteractive('df-8a3a4878-6872-448f-ab8f-a9e5d3981810')\"\n",
              "              title=\"Convert this dataframe to an interactive table.\"\n",
              "              style=\"display:none;\">\n",
              "        \n",
              "  <svg xmlns=\"http://www.w3.org/2000/svg\" height=\"24px\"viewBox=\"0 0 24 24\"\n",
              "       width=\"24px\">\n",
              "    <path d=\"M0 0h24v24H0V0z\" fill=\"none\"/>\n",
              "    <path d=\"M18.56 5.44l.94 2.06.94-2.06 2.06-.94-2.06-.94-.94-2.06-.94 2.06-2.06.94zm-11 1L8.5 8.5l.94-2.06 2.06-.94-2.06-.94L8.5 2.5l-.94 2.06-2.06.94zm10 10l.94 2.06.94-2.06 2.06-.94-2.06-.94-.94-2.06-.94 2.06-2.06.94z\"/><path d=\"M17.41 7.96l-1.37-1.37c-.4-.4-.92-.59-1.43-.59-.52 0-1.04.2-1.43.59L10.3 9.45l-7.72 7.72c-.78.78-.78 2.05 0 2.83L4 21.41c.39.39.9.59 1.41.59.51 0 1.02-.2 1.41-.59l7.78-7.78 2.81-2.81c.8-.78.8-2.07 0-2.86zM5.41 20L4 18.59l7.72-7.72 1.47 1.35L5.41 20z\"/>\n",
              "  </svg>\n",
              "      </button>\n",
              "      \n",
              "  <style>\n",
              "    .colab-df-container {\n",
              "      display:flex;\n",
              "      flex-wrap:wrap;\n",
              "      gap: 12px;\n",
              "    }\n",
              "\n",
              "    .colab-df-convert {\n",
              "      background-color: #E8F0FE;\n",
              "      border: none;\n",
              "      border-radius: 50%;\n",
              "      cursor: pointer;\n",
              "      display: none;\n",
              "      fill: #1967D2;\n",
              "      height: 32px;\n",
              "      padding: 0 0 0 0;\n",
              "      width: 32px;\n",
              "    }\n",
              "\n",
              "    .colab-df-convert:hover {\n",
              "      background-color: #E2EBFA;\n",
              "      box-shadow: 0px 1px 2px rgba(60, 64, 67, 0.3), 0px 1px 3px 1px rgba(60, 64, 67, 0.15);\n",
              "      fill: #174EA6;\n",
              "    }\n",
              "\n",
              "    [theme=dark] .colab-df-convert {\n",
              "      background-color: #3B4455;\n",
              "      fill: #D2E3FC;\n",
              "    }\n",
              "\n",
              "    [theme=dark] .colab-df-convert:hover {\n",
              "      background-color: #434B5C;\n",
              "      box-shadow: 0px 1px 3px 1px rgba(0, 0, 0, 0.15);\n",
              "      filter: drop-shadow(0px 1px 2px rgba(0, 0, 0, 0.3));\n",
              "      fill: #FFFFFF;\n",
              "    }\n",
              "  </style>\n",
              "\n",
              "      <script>\n",
              "        const buttonEl =\n",
              "          document.querySelector('#df-8a3a4878-6872-448f-ab8f-a9e5d3981810 button.colab-df-convert');\n",
              "        buttonEl.style.display =\n",
              "          google.colab.kernel.accessAllowed ? 'block' : 'none';\n",
              "\n",
              "        async function convertToInteractive(key) {\n",
              "          const element = document.querySelector('#df-8a3a4878-6872-448f-ab8f-a9e5d3981810');\n",
              "          const dataTable =\n",
              "            await google.colab.kernel.invokeFunction('convertToInteractive',\n",
              "                                                     [key], {});\n",
              "          if (!dataTable) return;\n",
              "\n",
              "          const docLinkHtml = 'Like what you see? Visit the ' +\n",
              "            '<a target=\"_blank\" href=https://colab.research.google.com/notebooks/data_table.ipynb>data table notebook</a>'\n",
              "            + ' to learn more about interactive tables.';\n",
              "          element.innerHTML = '';\n",
              "          dataTable['output_type'] = 'display_data';\n",
              "          await google.colab.output.renderOutput(dataTable, element);\n",
              "          const docLink = document.createElement('div');\n",
              "          docLink.innerHTML = docLinkHtml;\n",
              "          element.appendChild(docLink);\n",
              "        }\n",
              "      </script>\n",
              "    </div>\n",
              "  </div>\n",
              "  "
            ]
          },
          "metadata": {},
          "execution_count": 38
        }
      ]
    }
  ]
}