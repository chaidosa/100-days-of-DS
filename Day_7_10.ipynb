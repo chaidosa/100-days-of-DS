{
  "nbformat": 4,
  "nbformat_minor": 0,
  "metadata": {
    "colab": {
      "provenance": [],
      "authorship_tag": "ABX9TyNW7uhdY9GBcRkJYB9rZ2k9",
      "include_colab_link": true
    },
    "kernelspec": {
      "name": "python3",
      "display_name": "Python 3"
    },
    "language_info": {
      "name": "python"
    }
  },
  "cells": [
    {
      "cell_type": "markdown",
      "metadata": {
        "id": "view-in-github",
        "colab_type": "text"
      },
      "source": [
        "<a href=\"https://colab.research.google.com/github/chaidosa/100-days-of-DS/blob/main/Day_7_10.ipynb\" target=\"_parent\"><img src=\"https://colab.research.google.com/assets/colab-badge.svg\" alt=\"Open In Colab\"/></a>"
      ]
    },
    {
      "cell_type": "markdown",
      "source": [
        "# Day 7: Introduction to Machine Learning concepts\n",
        "\n",
        "\n",
        "## 1. What is Machine learning?\n",
        "Machine learning is a type artificial intelligence (to be more precise set of techniques and algorithms) where computer learn how to make decision or prediction by analyzing data.\n",
        "\n",
        "Imagine you're trying to teach a computer to recognize humans. You would give it a lot picture if humans and non-humans (like cat, dogs, birds or anything) and tell computer which ones are humans.\n",
        "\n",
        "The computer then uses statistical algorithms to analyze the data and identify patterns that are common among the cat pictures. Once it has learned to recognize these patterns, it can make predictions about new pictures it has never seen before, telling you whether or not they contain a human.\n",
        "\n",
        "Machine Learning is used in many areas such as image recognition, natural language processing, fraud detection, recommendation systems, and more.\n",
        "\n",
        "#### In simple terms Machine learning algoritms use historical data as input to predict new output values.\n",
        "\n",
        "### There are mainly three types of machine learning: supervised, unsupervised and reinforment learning.\n",
        "\n",
        "* #### Supervised Learning\n",
        "    Supervised learning is a type of machine learning where the algorithm is trained on a labeled dataset. The labeled dataset consists of input data and output data (or labels). The goal of the algorithm is to learn a function that maps the input data to the output data. Once the algorithm has been trained, it can be used to predict the output for new input data. Some common examples of this type of learning include classification and regression.\n",
        "\n",
        "* #### Unsupervised learning\n",
        "    Unsupervised learning is a type of machine learning where the algorithm is trained on an unlabeled dataseet. In this case, the algorithm has to find patterns and relationships in the data on its own. The goal of unsupervised learning is to group the input data into clusters or to reduce the dimensionality of the input data. Some common examples of unsupervised learning include clustering and dimensionality reduction (we'll talk more about this in future).\n",
        "\n",
        "* #### Reinforcement Learning\n",
        "Reinforcement learning is a type of machine learning where the algorithm leans by interacting with the environment. The algorithm receives feedback in the form of rewards or punishment for each action it takes in the environment. The goal of reinforcement learning is to learn a policy that maximizes the cummulative reward over time. Some common examples of reinforcement learning include game playing and robotics."
      ],
      "metadata": {
        "id": "Gi23s8SbV82V"
      }
    },
    {
      "cell_type": "code",
      "execution_count": null,
      "metadata": {
        "id": "xbmPCPouV4WZ"
      },
      "outputs": [],
      "source": []
    }
  ]
}